{
  "nbformat": 4,
  "nbformat_minor": 0,
  "metadata": {
    "colab": {
      "name": "Updating Database with Live API Data.ipynb",
      "provenance": []
    },
    "kernelspec": {
      "name": "python3",
      "display_name": "Python 3"
    },
    "language_info": {
      "name": "python"
    }
  },
  "cells": [
    {
      "cell_type": "markdown",
      "source": [
        "Get API data"
      ],
      "metadata": {
        "id": "GXNMdLuDUugH"
      }
    },
    {
      "cell_type": "code",
      "execution_count": null,
      "metadata": {
        "id": "L3tziqfaIyEN"
      },
      "outputs": [],
      "source": [
        "# import libraries\n",
        "import pandas as pd\n",
        "import requests\n",
        "import time"
      ]
    },
    {
      "cell_type": "code",
      "source": [
        "def get_reputation(item):\n",
        "    account_id = item['owner']['account_id']\n",
        "    reputation = item['owner']['reputation']\n",
        "    return account_id, reputation"
      ],
      "metadata": {
        "id": "qEyJq0MrKi6M"
      },
      "execution_count": null,
      "outputs": []
    },
    {
      "cell_type": "code",
      "source": [
        "def get_account_rep(df):\n",
        "    # make API call\n",
        "    url = \"https://api.stackexchange.com/2.3/questions?order=desc&sort=activity&site=stackoverflow\" \n",
        "    response = requests.get(url).json()\n",
        "    # wait 1 second before running for loop\n",
        "    time.sleep(1)\n",
        "\n",
        "    for item in response['items']:\n",
        "        account_id, reputation = get_reputation(item)\n",
        "        # save data in pandas df\n",
        "        df = df.append({'account_id': account_id, 'reputation': reputation},ignore_index = True)\n",
        "    return df"
      ],
      "metadata": {
        "id": "BRjFDwrIK7bH"
      },
      "execution_count": null,
      "outputs": []
    },
    {
      "cell_type": "code",
      "source": [
        "# build our dataframe\n",
        "df = pd.DataFrame(columns = ['account_id','reputation'])\n",
        "df = get_account_rep(df)"
      ],
      "metadata": {
        "id": "j48k5KrSNNlK"
      },
      "execution_count": null,
      "outputs": []
    },
    {
      "cell_type": "markdown",
      "source": [
        "Import a Pandas DataFrame to a Database in Python"
      ],
      "metadata": {
        "id": "D-X79xLLU2j6"
      }
    },
    {
      "cell_type": "code",
      "source": [
        "# Make a connection to database\n",
        "#https://serverfault.com/questions/1011144/aws-rds-to-pgadmin-error-saving-properties-unable-to-connect-to-server-timeout\n",
        "! pip install psycopg2\n",
        "import psycopg2 as ps"
      ],
      "metadata": {
        "colab": {
          "base_uri": "https://localhost:8080/"
        },
        "id": "59Iv378kNhh6",
        "outputId": "a0e783f2-15aa-463b-9d88-d8d263fe46ca"
      },
      "execution_count": null,
      "outputs": [
        {
          "output_type": "stream",
          "name": "stdout",
          "text": [
            "Requirement already satisfied: psycopg2 in /usr/local/lib/python3.7/dist-packages (2.7.6.1)\n"
          ]
        },
        {
          "output_type": "stream",
          "name": "stderr",
          "text": [
            "/usr/local/lib/python3.7/dist-packages/psycopg2/__init__.py:144: UserWarning: The psycopg2 wheel package will be renamed from release 2.8; in order to keep installing from binary please use \"pip install psycopg2-binary\" instead. For details see: <http://initd.org/psycopg/docs/install.html#binary-install-from-pypi>.\n",
            "  \"\"\")\n"
          ]
        }
      ]
    },
    {
      "cell_type": "code",
      "source": [
        "def connect_to_db(host_name, dbname, port, username, password):\n",
        "    try:\n",
        "         conn = ps.connect(host=host_name, database=dbname, user=username, password=password, port=port)\n",
        "    except ps.OperationalError as e:\n",
        "        raise e\n",
        "    else:\n",
        "        print('Connected!')\n",
        "    return conn "
      ],
      "metadata": {
        "id": "lM38b2mBYa5-"
      },
      "execution_count": null,
      "outputs": []
    },
    {
      "cell_type": "code",
      "source": [
        "\n",
        "host_name = 'database-1.xxxxxxxxxxxxxx.rds.amazonaws.com'\n",
        "dbname = 'xxxx'\n",
        "port = '5432'\n",
        "username = 'postgres'\n",
        "password = 'xxxxxxx'\n",
        "conn = None\n",
        "\n",
        "conn = connect_to_db(host_name, dbname, port, username, password)\n",
        "#also need to check security group rules for inbound/outbound"
      ],
      "metadata": {
        "colab": {
          "base_uri": "https://localhost:8080/"
        },
        "id": "OmAIN6tTVixc",
        "outputId": "edf2b05a-9b3c-4175-b1ef-db9241a7a921"
      },
      "execution_count": null,
      "outputs": [
        {
          "output_type": "stream",
          "name": "stdout",
          "text": [
            "Connected!\n"
          ]
        }
      ]
    },
    {
      "cell_type": "code",
      "source": [
        "# create table\n",
        "def create_table(curr):\n",
        "    create_table_command = (\"\"\"CREATE TABLE IF NOT EXISTS REPUTATION (\n",
        "    ACCOUNT_ID INTEGER PRIMARY KEY, \n",
        "    REPUTATION INTEGER NOT NULL\n",
        "    )\"\"\")  \n",
        "    curr.execute(create_table_command)"
      ],
      "metadata": {
        "id": "rnH2CzhAZtIH"
      },
      "execution_count": null,
      "outputs": []
    },
    {
      "cell_type": "code",
      "source": [
        "\n",
        "#check to see if account_id exists\n",
        "def check_if_account_exists(curr,account_id):\n",
        "    query = (\"\"\"SELECT ACCOUNT_ID FROM REPUTATION WHERE ACCOUNT_ID = %s\"\"\")\n",
        "    curr.execute(query,(account_id,))\n",
        "    return curr.fetchone() is not None"
      ],
      "metadata": {
        "id": "uVtjY4eQ3UXX"
      },
      "execution_count": null,
      "outputs": []
    },
    {
      "cell_type": "code",
      "source": [
        "#update row if account exists\n",
        "def update_row(curr, account_id, reputation):\n",
        "    query = (\"\"\"UPDATE REPUTATION\n",
        "            SET ACCOUNT_ID = %s,\n",
        "                REPUTATION = %s,\n",
        "            WHERE ACCOUNT_ID = %s;\"\"\")\n",
        "    vars_to_update = (account_id,reputation)\n",
        "    curr.execute(query,vars_to_update)"
      ],
      "metadata": {
        "id": "LA2oIGCuAjIj"
      },
      "execution_count": null,
      "outputs": []
    },
    {
      "cell_type": "code",
      "source": [
        "#updating the database\n",
        "#handling data for scalability\n",
        "\n",
        "#check to see if account_id exists\n",
        "def update_db(curr,df):\n",
        "    tmp_df = pd.DataFrame(columns=['account_id','reputation'])\n",
        "    for i, row in df.iterrows():\n",
        "        if check_if_account_exists(curr,row['account_id']): # If account already exists then we will update\n",
        "            update_row(curr,row['account_id'],row['reputation'])\n",
        "        else: # The account doesn't exist so we will append to the db table\n",
        "            tmp_df = tmp_df.append(row)\n",
        "    return tmp_df\n",
        "\n",
        "#perform update on exisiting account_id\n",
        "#perform an insert on new videos  "
      ],
      "metadata": {
        "id": "vzjnBCi53Z16"
      },
      "execution_count": null,
      "outputs": []
    },
    {
      "cell_type": "code",
      "source": [
        "#write insert command\n",
        "def insert_into_table(curr,account_id,reputation):\n",
        "    insert_into_reputation = (\"\"\"INSERT INTO REPUTATION (ACCOUNT_ID,REPUTATION) VALUES (%s,%s);\"\"\")\n",
        "    row_to_insert = (account_id,reputation)\n",
        "    curr.execute(insert_into_reputation,row_to_insert)\n"
      ],
      "metadata": {
        "id": "qF3jKjgTW2kG"
      },
      "execution_count": null,
      "outputs": []
    },
    {
      "cell_type": "code",
      "source": [
        "def append_from_df_to_db(curr,df):\n",
        "    for i, row in df.iterrows():\n",
        "        insert_into_table(curr,row['account_id'],row['reputation'])\n"
      ],
      "metadata": {
        "id": "rlCdzGSKXwKi"
      },
      "execution_count": null,
      "outputs": []
    },
    {
      "cell_type": "code",
      "source": [
        "curr = conn.cursor()\n",
        "#conn.rollback\n",
        "create_table(curr)\n",
        "\n",
        "conn.commit()"
      ],
      "metadata": {
        "id": "-2vrI57311tQ"
      },
      "execution_count": null,
      "outputs": []
    },
    {
      "cell_type": "code",
      "source": [
        "new_aid_df = update_db(curr,df)"
      ],
      "metadata": {
        "id": "g_zDx_kdLq6d"
      },
      "execution_count": null,
      "outputs": []
    },
    {
      "cell_type": "code",
      "source": [
        "append_from_df_to_db(curr,new_aid_df)"
      ],
      "metadata": {
        "id": "YDp-qnWwHlXr"
      },
      "execution_count": null,
      "outputs": []
    },
    {
      "cell_type": "code",
      "source": [
        "conn.commit()"
      ],
      "metadata": {
        "id": "93rW5ykOgFTF"
      },
      "execution_count": null,
      "outputs": []
    }
  ]
}